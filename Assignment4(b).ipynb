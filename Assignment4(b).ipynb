{
 "cells": [
  {
   "cell_type": "code",
   "execution_count": 1,
   "id": "16415474",
   "metadata": {},
   "outputs": [],
   "source": [
    "# 1.Create a 10 variables with your friend names?"
   ]
  },
  {
   "cell_type": "code",
   "execution_count": 1,
   "id": "98be175a",
   "metadata": {},
   "outputs": [
    {
     "name": "stdout",
     "output_type": "stream",
     "text": [
      "my friends are,prasanna,swati,durga,jayasri,parvin,shabana,santosh,mouni,supraja,supriya\n"
     ]
    }
   ],
   "source": [
    "name1=\"prasanna\"\n",
    "name2=\"swati\"\n",
    "name3=\"durga\"\n",
    "name4=\"jayasri\"\n",
    "name5=\"parvin\"\n",
    "name6=\"shabana\"\n",
    "name7=\"santosh\"\n",
    "name8=\"mouni\"\n",
    "name9=\"supraja\"\n",
    "name10=\"supriya\"\n",
    "print(\"my friends are\",name1,name2,name3,name4,name5,name6,name7,name8,name9,name10,sep=',')"
   ]
  },
  {
   "cell_type": "code",
   "execution_count": 3,
   "id": "4e87a293",
   "metadata": {},
   "outputs": [],
   "source": [
    "# 2. Create a 10 variables with your family member names?\n"
   ]
  },
  {
   "cell_type": "code",
   "execution_count": 4,
   "id": "b70715a2",
   "metadata": {
    "scrolled": true
   },
   "outputs": [
    {
     "name": "stdout",
     "output_type": "stream",
     "text": [
      "['sunil', 'siri', 'govardan', 'raja', 'samba', 'abi', 'nani', 'nikita', 'devi', 'chinni']\n"
     ]
    }
   ],
   "source": [
    "familynames=[\"sunil\",\"siri\",\"govardan\",\"raja\",\"samba\",\"abi\",\"nani\",\"nikita\",\"devi\",\"chinni\"]\n",
    "print(familynames)"
   ]
  },
  {
   "cell_type": "code",
   "execution_count": 5,
   "id": "10ac1986",
   "metadata": {},
   "outputs": [],
   "source": [
    "# 3. Create a 10 variables with favorite food names?\n"
   ]
  },
  {
   "cell_type": "code",
   "execution_count": 6,
   "id": "f167f068",
   "metadata": {},
   "outputs": [
    {
     "name": "stdout",
     "output_type": "stream",
     "text": [
      "['chicken', 'mutton', 'francebiryani', 'fishfry', 'eggfry', 'lemonrice', 'curdrice', 'ladyfingers', 'potato', 'chickenbiryani']\n"
     ]
    }
   ],
   "source": [
    "foodnames=[\"chicken\",\"mutton\",\"francebiryani\",\"fishfry\",\"eggfry\",\"lemonrice\",\"curdrice\",\"ladyfingers\",\"potato\",\"chickenbiryani\"]\n",
    "print(foodnames)"
   ]
  },
  {
   "cell_type": "code",
   "execution_count": 7,
   "id": "253b96e8",
   "metadata": {},
   "outputs": [],
   "source": [
    "# 4. Create a 10 variables with colour  names?\n"
   ]
  },
  {
   "cell_type": "code",
   "execution_count": 8,
   "id": "dbb86060",
   "metadata": {},
   "outputs": [
    {
     "name": "stdout",
     "output_type": "stream",
     "text": [
      "['pink', 'blue', 'red', 'green', 'yellow', 'white', 'black', 'orange', 'grey', 'purple']\n"
     ]
    }
   ],
   "source": [
    "colournames=[\"pink\",\"blue\",\"red\",\"green\",\"yellow\",\"white\",\"black\",\"orange\",\"grey\",\"purple\"]\n",
    "print(colournames)"
   ]
  },
  {
   "cell_type": "code",
   "execution_count": 9,
   "id": "740b81f8",
   "metadata": {},
   "outputs": [],
   "source": [
    "# 5. Create a 12 variables with month  names?\n"
   ]
  },
  {
   "cell_type": "code",
   "execution_count": 10,
   "id": "db4d51dd",
   "metadata": {},
   "outputs": [
    {
     "name": "stdout",
     "output_type": "stream",
     "text": [
      "['january', 'february', 'march', 'april', 'may', 'june', 'july', 'august', 'september', 'october', 'november', 'december']\n"
     ]
    }
   ],
   "source": [
    "monthnames=[\"january\",\"february\",\"march\",\"april\",\"may\",\"june\",\"july\",\"august\",\"september\",\"october\",\"november\",\"december\"]\n",
    "print(monthnames)"
   ]
  },
  {
   "cell_type": "code",
   "execution_count": 11,
   "id": "d70f0af4",
   "metadata": {},
   "outputs": [],
   "source": [
    "# 6. Create a 10 variables with game  names?\n"
   ]
  },
  {
   "cell_type": "code",
   "execution_count": 12,
   "id": "afc302ec",
   "metadata": {},
   "outputs": [
    {
     "name": "stdout",
     "output_type": "stream",
     "text": [
      "['cricket', 'hockey', 'kabaddi', 'chess', 'caromboard', 'vallyball', 'coco', 'loodo', 'tennis', 'ragbi']\n"
     ]
    }
   ],
   "source": [
    "gamenames=['cricket','hockey','kabaddi','chess','caromboard','vallyball','coco','loodo','tennis','ragbi']\n",
    "print(gamenames)"
   ]
  },
  {
   "cell_type": "code",
   "execution_count": 13,
   "id": "146a1d5f",
   "metadata": {},
   "outputs": [],
   "source": [
    "# 7. Create a 10 variables with city  names?\n"
   ]
  },
  {
   "cell_type": "code",
   "execution_count": 14,
   "id": "d2371a23",
   "metadata": {},
   "outputs": [
    {
     "name": "stdout",
     "output_type": "stream",
     "text": [
      "['vijayawada', 'mtm', 'guntur', 'vizag', 'hyd', 'hjunction', 'tirupati', 'kammam', 'ongole', 'karnataka']\n"
     ]
    }
   ],
   "source": [
    "citynames=['vijayawada','mtm','guntur','vizag','hyd','hjunction','tirupati','kammam','ongole','karnataka']\n",
    "print(citynames)"
   ]
  },
  {
   "cell_type": "code",
   "execution_count": 15,
   "id": "f1430f2f",
   "metadata": {},
   "outputs": [],
   "source": [
    "# 8. Create a list (friend_names) with your friend names (10 names)?\n"
   ]
  },
  {
   "cell_type": "code",
   "execution_count": 16,
   "id": "7e8a5f65",
   "metadata": {},
   "outputs": [
    {
     "name": "stdout",
     "output_type": "stream",
     "text": [
      "['prasanna', 'swati', 'durga', 'jayasri', 'parvin', 'shabana', 'santosh', 'mouni', 'supraja', 'supriya']\n"
     ]
    }
   ],
   "source": [
    "lst=[\"prasanna\",\"swati\",\"durga\",\"jayasri\",\"parvin\",\"shabana\",\"santosh\",\"mouni\",\"supraja\",\"supriya\"]\n",
    "print(lst)"
   ]
  },
  {
   "cell_type": "code",
   "execution_count": 17,
   "id": "93a182e6",
   "metadata": {},
   "outputs": [],
   "source": [
    "# 9. Create a tuple (family_members) with your family members?\n"
   ]
  },
  {
   "cell_type": "code",
   "execution_count": 41,
   "id": "95da4d4f",
   "metadata": {},
   "outputs": [
    {
     "name": "stdout",
     "output_type": "stream",
     "text": [
      "('sunil', 'siri', 'govardan', 'raja', 'samba', 'abi', 'nani', 'nikita', 'devi', 'chinni')\n"
     ]
    }
   ],
   "source": [
    "tuple1=(\"sunil\",\"siri\",\"govardan\",\"raja\",\"samba\",\"abi\",\"nani\",\"nikita\",\"devi\",\"chinni\")\n",
    "print(tuple1)"
   ]
  },
  {
   "cell_type": "code",
   "execution_count": 19,
   "id": "d85c6e54",
   "metadata": {},
   "outputs": [],
   "source": [
    "# 10. Create a set (colours) with colour names(10 names)?\n"
   ]
  },
  {
   "cell_type": "code",
   "execution_count": 34,
   "id": "d762b2f5",
   "metadata": {},
   "outputs": [
    {
     "name": "stdout",
     "output_type": "stream",
     "text": [
      "{'purple', 'white', 'blue', 'orange', 'yellow', 'red', 'grey', 'green', 'pink', 'black'}\n"
     ]
    }
   ],
   "source": [
    "set1={\"pink\",\"blue\",\"red\",\"green\",\"yellow\",\"white\",\"black\",\"orange\",\"grey\",\"purple\"}\n",
    "print(set1)"
   ]
  },
  {
   "cell_type": "code",
   "execution_count": 21,
   "id": "fe9b1399",
   "metadata": {},
   "outputs": [],
   "source": [
    "# 11. month_names=[1,9,10,5,3,2,7,8,6,4] , sort the list--> write a program?\n",
    "# expected output: month_names=[1,2,3,4,5,6,7,8,9,10]\n"
   ]
  },
  {
   "cell_type": "code",
   "execution_count": 22,
   "id": "e0c38126",
   "metadata": {},
   "outputs": [
    {
     "name": "stdout",
     "output_type": "stream",
     "text": [
      "{1, 2, 3, 4, 5, 6, 7, 8, 9, 10}\n"
     ]
    }
   ],
   "source": [
    "month_names={1,9,10,5,3,2,7,8,6,4}\n",
    "print(month_names)"
   ]
  },
  {
   "cell_type": "code",
   "execution_count": 23,
   "id": "cdb5497c",
   "metadata": {},
   "outputs": [],
   "source": [
    "# 12. tollywood_heros=[\"chiru\", \"balaya\", \"nag\",\"venky\",\"powerstar\",\"superstar\",\"ntr\",\"ramcharan\"], write a program?\n",
    "# expected output:tollywood_heros=[\"chiranjeevi\", \"balakrishan\", \"nagarjuna\",\"venky\",\"pawan kalyan\",\"maheshbabu\",\"NT rama rao\",\"ramcharan\"]"
   ]
  },
  {
   "cell_type": "code",
   "execution_count": 24,
   "id": "b2dabb42",
   "metadata": {},
   "outputs": [],
   "source": [
    "tollywood_heros=[\"chiru\", \"balaya\", \"nag\",\"venky\",\"powerstar\",\"superstar\",\"ntr\",\"ramcharan\"]"
   ]
  },
  {
   "cell_type": "code",
   "execution_count": 25,
   "id": "b942f396",
   "metadata": {},
   "outputs": [
    {
     "name": "stdout",
     "output_type": "stream",
     "text": [
      "['chiranjeevi', 'balakrishna', 'nagarjuna', 'venky', 'pawankalyan', 'maheshbabu', 'Nt rama rao', 'ramcharan']\n"
     ]
    }
   ],
   "source": [
    "tollywood_heros[0]=\"chiranjeevi\"\n",
    "tollywood_heros[1]=\"balakrishna\"\n",
    "tollywood_heros[2]=\"nagarjuna\"\n",
    "tollywood_heros[3]=\"venky\"\n",
    "tollywood_heros[4]=\"pawankalyan\"\n",
    "tollywood_heros[5]=\"maheshbabu\"\n",
    "tollywood_heros[6]=\"Nt rama rao\"\n",
    "tollywood_heros[7]=\"ramcharan\"\n",
    "print(tollywood_heros)"
   ]
  },
  {
   "cell_type": "code",
   "execution_count": 26,
   "id": "6e2e0914",
   "metadata": {},
   "outputs": [],
   "source": [
    "# 13. bollywood_heros=[\"sharukkhan\", \"salmankhan\", \"salmankhan\",\"amirkhan\",\"HrithikRoshan\",\"Amitabh Bachchan\",\"Akshay Kumar\",\"amirkhan\"], write a program to remove duplicates?\n"
   ]
  },
  {
   "cell_type": "code",
   "execution_count": 27,
   "id": "90e5aaeb",
   "metadata": {},
   "outputs": [],
   "source": [
    " bollywood_heros={\"sharukkhan\", \"salmankhan\", \"salmankhan\",\"amirkhan\",\"HrithikRoshan\",\"Amitabh Bachchan\",\"Akshay Kumar\",\"amirkhan\"}   "
   ]
  },
  {
   "cell_type": "code",
   "execution_count": 28,
   "id": "47d4271d",
   "metadata": {},
   "outputs": [
    {
     "name": "stdout",
     "output_type": "stream",
     "text": [
      "{'sharukkhan', 'Akshay Kumar', 'amirkhan', 'salmankhan', 'Amitabh Bachchan', 'HrithikRoshan'}\n"
     ]
    }
   ],
   "source": [
    "print(bollywood_heros)"
   ]
  },
  {
   "cell_type": "code",
   "execution_count": 29,
   "id": "50d1d43a",
   "metadata": {},
   "outputs": [],
   "source": [
    "# 14. breakfast_items=[\"upma\",\"dosa\",\"idly\",\"puri\",\"punugulu\",\"roti\",\"chapathi\", \"parota\",\"mysoor baji\",\"minapa baji\"], print your favorite breakfast itme?\n",
    "# example: My Favorite breakfast time is mysoor baji\n"
   ]
  },
  {
   "cell_type": "code",
   "execution_count": 30,
   "id": "643a9b28",
   "metadata": {},
   "outputs": [
    {
     "name": "stdout",
     "output_type": "stream",
     "text": [
      "My Favorite breakfast time is mysoor baji\n"
     ]
    }
   ],
   "source": [
    " breakfast_items=[\"upma\",\"dosa\",\"idly\",\"puri\",\"punugulu\",\"roti\",\"chapathi\", \"parota\",\"mysoor baji\",\"minapa baji\"]\n",
    "print (\"My Favorite breakfast time is\",breakfast_items[-2])"
   ]
  },
  {
   "cell_type": "code",
   "execution_count": null,
   "id": "2e623801",
   "metadata": {},
   "outputs": [],
   "source": []
  },
  {
   "cell_type": "code",
   "execution_count": 50,
   "id": "b9620c64",
   "metadata": {},
   "outputs": [
    {
     "ename": "TypeError",
     "evalue": "'set' object is not callable",
     "output_type": "error",
     "traceback": [
      "\u001b[1;31m---------------------------------------------------------------------------\u001b[0m",
      "\u001b[1;31mTypeError\u001b[0m                                 Traceback (most recent call last)",
      "Cell \u001b[1;32mIn[50], line 2\u001b[0m\n\u001b[0;32m      1\u001b[0m month_names1\u001b[38;5;241m=\u001b[39m{\u001b[38;5;241m1\u001b[39m,\u001b[38;5;241m9\u001b[39m,\u001b[38;5;241m10\u001b[39m,\u001b[38;5;241m5\u001b[39m,\u001b[38;5;241m3\u001b[39m,\u001b[38;5;241m2\u001b[39m,\u001b[38;5;241m7\u001b[39m,\u001b[38;5;241m8\u001b[39m,\u001b[38;5;241m6\u001b[39m,\u001b[38;5;241m4\u001b[39m}\n\u001b[1;32m----> 2\u001b[0m seq_set\u001b[38;5;241m=\u001b[39m\u001b[38;5;28;43mset\u001b[39;49m\u001b[43m(\u001b[49m\u001b[43mmonth_names1\u001b[49m\u001b[43m)\u001b[49m\n\u001b[0;32m      3\u001b[0m \u001b[38;5;28mprint\u001b[39m(seq_set)\n",
      "\u001b[1;31mTypeError\u001b[0m: 'set' object is not callable"
     ]
    }
   ],
   "source": [
    "month_names1={1,9,10,5,3,2,7,8,6,4}\n",
    "seq_set=set(month_names1)\n",
    "print(seq_set)"
   ]
  },
  {
   "cell_type": "code",
   "execution_count": null,
   "id": "f0b47f3b",
   "metadata": {},
   "outputs": [],
   "source": []
  },
  {
   "cell_type": "code",
   "execution_count": null,
   "id": "0aa319f0",
   "metadata": {},
   "outputs": [],
   "source": []
  },
  {
   "cell_type": "code",
   "execution_count": null,
   "id": "b9a1d85d",
   "metadata": {},
   "outputs": [],
   "source": []
  }
 ],
 "metadata": {
  "kernelspec": {
   "display_name": "Python 3 (ipykernel)",
   "language": "python",
   "name": "python3"
  },
  "language_info": {
   "codemirror_mode": {
    "name": "ipython",
    "version": 3
   },
   "file_extension": ".py",
   "mimetype": "text/x-python",
   "name": "python",
   "nbconvert_exporter": "python",
   "pygments_lexer": "ipython3",
   "version": "3.10.9"
  }
 },
 "nbformat": 4,
 "nbformat_minor": 5
}
